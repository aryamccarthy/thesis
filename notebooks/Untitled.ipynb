{
 "cells": [
  {
   "cell_type": "code",
   "execution_count": 2,
   "metadata": {
    "collapsed": false
   },
   "outputs": [],
   "source": [
    "from collections import defaultdict\n",
    "import os\n",
    "import sys\n",
    "\n",
    "PROJ_ROOT = os.path.join(os.pardir)\n",
    "\n",
    "# add local python functions\n",
    "sys.path.append(os.path.join(PROJ_ROOT, \"src\"))\n",
    "\n",
    "import numpy as np\n",
    "import matplotlib.pyplot as plt\n",
    "from scipy.spatial import distance\n",
    "from scipy.cluster import hierarchy\n",
    "import networkx as nx"
   ]
  },
  {
   "cell_type": "code",
   "execution_count": 4,
   "metadata": {
    "collapsed": false
   },
   "outputs": [],
   "source": [
    "%load_ext watermark"
   ]
  },
  {
   "cell_type": "code",
   "execution_count": 6,
   "metadata": {
    "collapsed": false
   },
   "outputs": [
    {
     "name": "stdout",
     "output_type": "stream",
     "text": [
      "Arya D. McCarthy 2017-03-07 00:16:53 \n",
      "\n",
      "CPython 3.5.3\n",
      "IPython 5.3.0\n",
      "\n",
      "networkx 1.11\n",
      "Git hash: 9a2a7f362aa2c544a43425934b1bd131d4f4c9a3\n"
     ]
    }
   ],
   "source": [
    "%watermark -a \"Arya D. McCarthy\" -d -t -v -p networkx -g"
   ]
  },
  {
   "cell_type": "code",
   "execution_count": 18,
   "metadata": {
    "collapsed": false
   },
   "outputs": [],
   "source": [
    "G_ = nx.read_pajek(\"../data/raw/dolphins.paj\")\n",
    "G = nx.Graph(G_)\n",
    "G = nx.convert_node_labels_to_integers(G, label_attribute=\"name\")"
   ]
  },
  {
   "cell_type": "code",
   "execution_count": 19,
   "metadata": {
    "collapsed": true
   },
   "outputs": [],
   "source": [
    "def create_hc(G):\n",
    "    \"\"\"Creates hierarchical cluster of graph from distance matrix.\n",
    "    \n",
    "    Parameters\n",
    "    ----------\n",
    "    G : nx.Graph\n",
    "        The graph to cluster.\n",
    "        \n",
    "    Returns\n",
    "    -------\n",
    "    lst : list\n",
    "        The partition values.\n",
    "    \"\"\"\n",
    "    path_length = nx.all_pairs_shortest_path_length(G)\n",
    "    distances = np.zeros((len(G), len(G)))\n",
    "    for u, p in path_length.items():\n",
    "        for v, d in p.items():\n",
    "            distances[u, v] = d\n",
    "    print(distances)\n",
    "    # Create hierarchical cluster.\n",
    "    Y = distance.squareform(distances)\n",
    "    Z = hierarchy.complete(Y)\n",
    "    # This partition selection is arbitrary.\n",
    "    membership = list(hierarchy.fcluster(Z, t=1.15))\n",
    "    # Create collection of lists for blockmodel\n",
    "    partition = defaultdict(list)\n",
    "    for n, p in zip(list(range(len(G))), membership):\n",
    "        partition[p].append(n)\n",
    "    return list(partition.values())"
   ]
  },
  {
   "cell_type": "code",
   "execution_count": 20,
   "metadata": {
    "collapsed": false
   },
   "outputs": [],
   "source": [
    "from sklearn.cluster import DBSCAN"
   ]
  },
  {
   "cell_type": "code",
   "execution_count": 40,
   "metadata": {
    "collapsed": false
   },
   "outputs": [
    {
     "name": "stdout",
     "output_type": "stream",
     "text": [
      "[[ 0.  0.  0. ...,  0.  0.  0.]\n",
      " [ 0.  0.  0. ...,  0.  0.  0.]\n",
      " [ 0.  0.  0. ...,  0.  0.  0.]\n",
      " ..., \n",
      " [ 0.  0.  0. ...,  0.  0.  0.]\n",
      " [ 0.  0.  0. ...,  0.  0.  0.]\n",
      " [ 0.  0.  0. ...,  0.  0.  0.]]\n"
     ]
    }
   ],
   "source": [
    "path_length = nx.all_pairs_shortest_path_length(G)\n",
    "distances = np.zeros((len(G), len(G)))\n",
    "print(distances)\n",
    "for (u, p) in path_length.items():\n",
    "    for (v, d) in p.items():\n",
    "        distances[u][v] = d\n",
    "\n",
    "# Create hierarchical cluster.\n",
    "Y = distance.squareform(distances)"
   ]
  },
  {
   "cell_type": "code",
   "execution_count": 24,
   "metadata": {
    "collapsed": false
   },
   "outputs": [
    {
     "data": {
      "text/plain": [
       "array([[ 0.,  4.,  3., ...,  4.,  3.,  3.],\n",
       "       [ 4.,  0.,  4., ...,  4.,  5.,  2.],\n",
       "       [ 3.,  4.,  0., ...,  2.,  3.,  3.],\n",
       "       ..., \n",
       "       [ 4.,  4.,  2., ...,  0.,  5.,  3.],\n",
       "       [ 3.,  5.,  3., ...,  5.,  0.,  4.],\n",
       "       [ 3.,  2.,  3., ...,  3.,  4.,  0.]])"
      ]
     },
     "execution_count": 24,
     "metadata": {},
     "output_type": "execute_result"
    }
   ],
   "source": [
    "distances"
   ]
  },
  {
   "cell_type": "code",
   "execution_count": 34,
   "metadata": {
    "collapsed": true
   },
   "outputs": [],
   "source": [
    "from scipy.sparse import csr_matrix\n",
    "distances = csr_matrix(distances)"
   ]
  },
  {
   "cell_type": "code",
   "execution_count": 38,
   "metadata": {
    "collapsed": true
   },
   "outputs": [],
   "source": [
    "from scipy.cluster.hierarchy import complete"
   ]
  },
  {
   "cell_type": "code",
   "execution_count": 43,
   "metadata": {
    "collapsed": false
   },
   "outputs": [
    {
     "data": {
      "text/plain": [
       "array([[  32.        ,   45.        ,    2.64575131,    2.        ],\n",
       "       [  54.        ,   55.        ,    2.82842712,    2.        ],\n",
       "       [   8.        ,   18.        ,    2.82842712,    2.        ],\n",
       "       [  12.        ,   36.        ,    3.31662479,    2.        ],\n",
       "       [   3.        ,   20.        ,    4.        ,    2.        ],\n",
       "       [   9.        ,   56.        ,    4.        ,    2.        ],\n",
       "       [   7.        ,   19.        ,    4.12310563,    2.        ],\n",
       "       [  35.        ,   66.        ,    4.12310563,    3.        ],\n",
       "       [  50.        ,   52.        ,    4.12310563,    2.        ],\n",
       "       [  15.        ,   27.        ,    4.24264069,    2.        ],\n",
       "       [  37.        ,   44.        ,    4.35889894,    2.        ],\n",
       "       [  47.        ,   61.        ,    4.47213595,    2.        ],\n",
       "       [  46.        ,   69.        ,    4.47213595,    4.        ],\n",
       "       [   2.        ,   13.        ,    4.58257569,    2.        ],\n",
       "       [  41.        ,   49.        ,    4.89897949,    2.        ],\n",
       "       [  30.        ,   68.        ,    4.89897949,    3.        ],\n",
       "       [  14.        ,   62.        ,    4.89897949,    3.        ],\n",
       "       [   4.        ,   25.        ,    5.        ,    2.        ],\n",
       "       [  22.        ,   53.        ,    5.19615242,    2.        ],\n",
       "       [  33.        ,   72.        ,    5.19615242,    3.        ],\n",
       "       [  43.        ,   65.        ,    5.19615242,    3.        ],\n",
       "       [  10.        ,   40.        ,    5.29150262,    2.        ],\n",
       "       [  48.        ,   64.        ,    5.29150262,    3.        ],\n",
       "       [  31.        ,   74.        ,    5.56776436,    5.        ],\n",
       "       [  73.        ,   79.        ,    5.56776436,    4.        ],\n",
       "       [  17.        ,   57.        ,    5.65685425,    2.        ],\n",
       "       [   0.        ,   39.        ,    5.83095189,    2.        ],\n",
       "       [  24.        ,   51.        ,    5.91607978,    2.        ],\n",
       "       [  38.        ,   82.        ,    5.91607978,    4.        ],\n",
       "       [  59.        ,   63.        ,    6.        ,    3.        ],\n",
       "       [  42.        ,   76.        ,    6.08276253,    3.        ],\n",
       "       [  16.        ,   29.        ,    6.244998  ,    2.        ],\n",
       "       [  11.        ,   23.        ,    6.244998  ,    2.        ],\n",
       "       [  21.        ,   70.        ,    6.4807407 ,    3.        ],\n",
       "       [  81.        ,   93.        ,    6.8556546 ,    5.        ],\n",
       "       [  71.        ,   85.        ,    6.8556546 ,    7.        ],\n",
       "       [  67.        ,   78.        ,    7.        ,    5.        ],\n",
       "       [  34.        ,   86.        ,    7.07106781,    5.        ],\n",
       "       [   1.        ,   95.        ,    7.07106781,    4.        ],\n",
       "       [  89.        ,   92.        ,    7.28010989,    5.        ],\n",
       "       [  58.        ,  100.        ,    7.34846923,    5.        ],\n",
       "       [  28.        ,   94.        ,    7.54983444,    3.        ],\n",
       "       [  80.        ,   83.        ,    7.74596669,    4.        ],\n",
       "       [  90.        ,   99.        ,    7.87400787,    9.        ],\n",
       "       [  26.        ,   91.        ,    8.        ,    4.        ],\n",
       "       [  84.        ,   98.        ,    8.18535277,    8.        ],\n",
       "       [   5.        ,   96.        ,    8.30662386,    6.        ],\n",
       "       [  75.        ,  101.        ,    8.60232527,    7.        ],\n",
       "       [  60.        ,   77.        ,    8.71779789,    4.        ],\n",
       "       [  87.        ,  107.        ,    9.53939201,   10.        ],\n",
       "       [  97.        ,  105.        ,    9.8488578 ,   16.        ],\n",
       "       [  88.        ,  104.        ,   10.24695077,    6.        ],\n",
       "       [ 108.        ,  110.        ,   10.81665383,   10.        ],\n",
       "       [ 103.        ,  112.        ,   10.90871211,   19.        ],\n",
       "       [ 109.        ,  113.        ,   12.08304597,   13.        ],\n",
       "       [ 102.        ,  106.        ,   12.32882801,    9.        ],\n",
       "       [ 115.        ,  117.        ,   14.03566885,   28.        ],\n",
       "       [   6.        ,  111.        ,   15.84297952,   11.        ],\n",
       "       [ 114.        ,  116.        ,   18.70828693,   23.        ],\n",
       "       [ 118.        ,  120.        ,   24.41311123,   51.        ],\n",
       "       [ 119.        ,  121.        ,   33.24154028,   62.        ]])"
      ]
     },
     "execution_count": 43,
     "metadata": {},
     "output_type": "execute_result"
    }
   ],
   "source": [
    "Z = complete(distances)\n",
    "Z"
   ]
  },
  {
   "cell_type": "code",
   "execution_count": 45,
   "metadata": {
    "collapsed": false
   },
   "outputs": [
    {
     "data": {
      "image/png": "[encoded data removed]",
      "text/plain": [
       "<matplotlib.figure.Figure at 0x111cda278>"
      ]
     },
     "metadata": {
      "image/png": {
       "height": 248,
       "width": 370
      }
     },
     "output_type": "display_data"
    }
   ],
   "source": [
    "hierarchy.dendrogram(Z)\n",
    "plt.show()"
   ]
  },
  {
   "cell_type": "code",
   "execution_count": 49,
   "metadata": {
    "collapsed": false
   },
   "outputs": [],
   "source": [
    "Z\n",
    "import pandas as pd\n",
    "data = pd.DataFrame(Z, columns=['child1', 'child2', 'distance', 'cluster_size'])"
   ]
  },
  {
   "cell_type": "code",
   "execution_count": 50,
   "metadata": {
    "collapsed": false
   },
   "outputs": [
    {
     "data": {
      "text/plain": [
       "child1          float64\n",
       "child2          float64\n",
       "distance        float64\n",
       "cluster_size    float64\n",
       "dtype: object"
      ]
     },
     "execution_count": 50,
     "metadata": {},
     "output_type": "execute_result"
    }
   ],
   "source": [
    "data.dtypes"
   ]
  },
  {
   "cell_type": "code",
   "execution_count": 51,
   "metadata": {
    "collapsed": false
   },
   "outputs": [
    {
     "data": {
      "text/html": [
       "<div>\n",
       "<table border=\"1\" class=\"dataframe\">\n",
       "  <thead>\n",
       "    <tr style=\"text-align: right;\">\n",
       "      <th></th>\n",
       "      <th>child1</th>\n",
       "      <th>child2</th>\n",
       "      <th>distance</th>\n",
       "      <th>cluster_size</th>\n",
       "    </tr>\n",
       "  </thead>\n",
       "  <tbody>\n",
       "    <tr>\n",
       "      <th>count</th>\n",
       "      <td>61.000000</td>\n",
       "      <td>61.000000</td>\n",
       "      <td>61.000000</td>\n",
       "      <td>61.000000</td>\n",
       "    </tr>\n",
       "    <tr>\n",
       "      <th>mean</th>\n",
       "      <td>48.344262</td>\n",
       "      <td>72.655738</td>\n",
       "      <td>7.573316</td>\n",
       "      <td>6.967213</td>\n",
       "    </tr>\n",
       "    <tr>\n",
       "      <th>std</th>\n",
       "      <td>36.301922</td>\n",
       "      <td>30.059322</td>\n",
       "      <td>5.076642</td>\n",
       "      <td>10.595545</td>\n",
       "    </tr>\n",
       "    <tr>\n",
       "      <th>min</th>\n",
       "      <td>0.000000</td>\n",
       "      <td>13.000000</td>\n",
       "      <td>2.645751</td>\n",
       "      <td>2.000000</td>\n",
       "    </tr>\n",
       "    <tr>\n",
       "      <th>25%</th>\n",
       "      <td>16.000000</td>\n",
       "      <td>52.000000</td>\n",
       "      <td>4.898979</td>\n",
       "      <td>2.000000</td>\n",
       "    </tr>\n",
       "    <tr>\n",
       "      <th>50%</th>\n",
       "      <td>41.000000</td>\n",
       "      <td>74.000000</td>\n",
       "      <td>6.082763</td>\n",
       "      <td>3.000000</td>\n",
       "    </tr>\n",
       "    <tr>\n",
       "      <th>75%</th>\n",
       "      <td>80.000000</td>\n",
       "      <td>98.000000</td>\n",
       "      <td>8.185353</td>\n",
       "      <td>6.000000</td>\n",
       "    </tr>\n",
       "    <tr>\n",
       "      <th>max</th>\n",
       "      <td>119.000000</td>\n",
       "      <td>121.000000</td>\n",
       "      <td>33.241540</td>\n",
       "      <td>62.000000</td>\n",
       "    </tr>\n",
       "  </tbody>\n",
       "</table>\n",
       "</div>"
      ],
      "text/plain": [
       "           child1      child2   distance  cluster_size\n",
       "count   61.000000   61.000000  61.000000     61.000000\n",
       "mean    48.344262   72.655738   7.573316      6.967213\n",
       "std     36.301922   30.059322   5.076642     10.595545\n",
       "min      0.000000   13.000000   2.645751      2.000000\n",
       "25%     16.000000   52.000000   4.898979      2.000000\n",
       "50%     41.000000   74.000000   6.082763      3.000000\n",
       "75%     80.000000   98.000000   8.185353      6.000000\n",
       "max    119.000000  121.000000  33.241540     62.000000"
      ]
     },
     "execution_count": 51,
     "metadata": {},
     "output_type": "execute_result"
    }
   ],
   "source": [
    "data.describe()"
   ]
  },
  {
   "cell_type": "code",
   "execution_count": 57,
   "metadata": {
    "collapsed": false
   },
   "outputs": [],
   "source": [
    "ffg = nx.convert_node_labels_to_integers(nx.florentine_families_graph(), first_label=1)"
   ]
  },
  {
   "cell_type": "code",
   "execution_count": 63,
   "metadata": {
    "collapsed": false
   },
   "outputs": [],
   "source": [
    "%matplotlib inline"
   ]
  },
  {
   "cell_type": "code",
   "execution_count": 61,
   "metadata": {
    "collapsed": false
   },
   "outputs": [
    {
     "name": "stdout",
     "output_type": "stream",
     "text": [
      "Using matplotlib backend: MacOSX\n",
      "Populating the interactive namespace from numpy and matplotlib\n"
     ]
    }
   ],
   "source": [
    "%pylab --no-import-all"
   ]
  },
  {
   "cell_type": "code",
   "execution_count": 72,
   "metadata": {
    "collapsed": false
   },
   "outputs": [
    {
     "name": "stderr",
     "output_type": "stream",
     "text": [
      "/Users/Arya/anaconda/envs/thesis/lib/python3.5/site-packages/networkx/drawing/nx_pylab.py:126: MatplotlibDeprecationWarning: pyplot.hold is deprecated.\n",
      "    Future behavior will be consistent with the long-time default:\n",
      "    plot commands add elements without first clearing the\n",
      "    Axes and/or Figure.\n",
      "  b = plt.ishold()\n",
      "/Users/Arya/anaconda/envs/thesis/lib/python3.5/site-packages/networkx/drawing/nx_pylab.py:138: MatplotlibDeprecationWarning: pyplot.hold is deprecated.\n",
      "    Future behavior will be consistent with the long-time default:\n",
      "    plot commands add elements without first clearing the\n",
      "    Axes and/or Figure.\n",
      "  plt.hold(b)\n",
      "/Users/Arya/anaconda/envs/thesis/lib/python3.5/site-packages/matplotlib/__init__.py:917: UserWarning: axes.hold is deprecated. Please remove it from your matplotlibrc and/or style files.\n",
      "  warnings.warn(self.msg_depr_set % key)\n",
      "/Users/Arya/anaconda/envs/thesis/lib/python3.5/site-packages/matplotlib/rcsetup.py:152: UserWarning: axes.hold is deprecated, will be removed in 3.0\n",
      "  warnings.warn(\"axes.hold is deprecated, will be removed in 3.0\")\n"
     ]
    },
    {
     "data": {
      "image/png": "[encoded data removed]",
      "text/plain": [
       "<matplotlib.figure.Figure at 0x1192bf550>"
      ]
     },
     "metadata": {
      "image/png": {
       "height": 320,
       "width": 471
      }
     },
     "output_type": "display_data"
    }
   ],
   "source": [
    "nx.draw_spectral(nx.florentine_families_graph(), iterations=100)"
   ]
  },
  {
   "cell_type": "code",
   "execution_count": null,
   "metadata": {
    "collapsed": true
   },
   "outputs": [],
   "source": []
  }
 ],
 "metadata": {
  "anaconda-cloud": {},
  "kernelspec": {
   "display_name": "Python [default]",
   "language": "python",
   "name": "python3"
  },
  "language_info": {
   "codemirror_mode": {
    "name": "ipython",
    "version": 3
   },
   "file_extension": ".py",
   "mimetype": "text/x-python",
   "name": "python",
   "nbconvert_exporter": "python",
   "pygments_lexer": "ipython3",
   "version": "3.5.2"
  }
 },
 "nbformat": 4,
 "nbformat_minor": 2
}
